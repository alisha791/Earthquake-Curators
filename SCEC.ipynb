{
 "metadata": {
  "name": "SCEC"
 },
 "nbformat": 3,
 "nbformat_minor": 0,
 "worksheets": [
  {
   "cells": [
    {
     "cell_type": "code",
     "collapsed": false,
     "input": [
      "import urllib\n",
      "url= 'http://www.data.scec.org/ftp/catalogs/SCEC_DC/SCEDC_catalogs.tar.gz'\n",
      "urllib.urlretrieve(url, 'SCED_catalogs.tar.gz')\n"
     ],
     "language": "python",
     "metadata": {},
     "outputs": [
      {
       "output_type": "pyout",
       "prompt_number": 1,
       "text": [
        "('SCED_catalogs.tar.gz', <httplib.HTTPMessage instance at 0x39d7878>)"
       ]
      }
     ],
     "prompt_number": 1
    },
    {
     "cell_type": "code",
     "collapsed": false,
     "input": [
      "SCSN= 'http://www.data.scec.org/ftp/catalogs/SCSN/SCSN_catalogs.tar.gz'\n",
      "urllib.urlretrieve(SCSN, 'SCSN_catalogs.tar.gz')"
     ],
     "language": "python",
     "metadata": {},
     "outputs": [
      {
       "output_type": "pyout",
       "prompt_number": 3,
       "text": [
        "('SCSN_catalogs.tar.gz', <httplib.HTTPMessage instance at 0x39d9680>)"
       ]
      }
     ],
     "prompt_number": 3
    },
    {
     "cell_type": "code",
     "collapsed": false,
     "input": [],
     "language": "python",
     "metadata": {},
     "outputs": []
    },
    {
     "cell_type": "code",
     "collapsed": false,
     "input": [],
     "language": "python",
     "metadata": {},
     "outputs": []
    }
   ],
   "metadata": {}
  }
 ]
}